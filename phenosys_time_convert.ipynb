{
 "cells": [
  {
   "cell_type": "markdown",
   "metadata": {},
   "source": [
    "### converting phenosys csv file into a human-readable dataframe"
   ]
  },
  {
   "cell_type": "code",
   "execution_count": 1,
   "metadata": {},
   "outputs": [],
   "source": [
    "## import package\n",
    "import datetime\n",
    "import numpy as np\n",
    "import pandas as pd\n"
   ]
  },
  {
   "cell_type": "code",
   "execution_count": 2,
   "metadata": {},
   "outputs": [],
   "source": [
    "## Def phensys converter for lick rate\n",
    "\n",
    "def timestampconvert(x):\n",
    "  stamp = datetime.timedelta(days = x)\n",
    "  result = datetime.datetime(1899,12,30,0,0) + stamp\n",
    "  # print(result.strftime('%Y-%m-%d %H:%M:%S.%f'))\n",
    "  return result\n",
    "\n",
    "def datetime_convert_phenosys(csv_path):\n",
    "    df_pheno = pd.read_csv(csv_path,sep=',')\n",
    "    time_list = df_pheno['DateTime']\n",
    "    result = []\n",
    "    for x in time_list:\n",
    "        timestampconvert(float(x))\n",
    "        result.append(timestampconvert(x))\n",
    "    new_time_stamps = []\n",
    "    for i in result:\n",
    "        new_time_stamps.append((i-min(result)).total_seconds()) # make all time stamps relative to the first time stamp (starting from 0)\n",
    "    df_pheno = df_pheno.fillna(0)\n",
    "    df_pheno['DateTime'] = new_time_stamps\n",
    "    return df_pheno\n"
   ]
  },
  {
   "cell_type": "code",
   "execution_count": null,
   "metadata": {},
   "outputs": [],
   "source": [
    "## only change here\n",
    "csv_path = '' # adapt this to your own path\n",
    "df_pheno = datetime_convert_phenosys(csv_path)\n"
   ]
  }
 ],
 "metadata": {
  "kernelspec": {
   "display_name": "pynapple",
   "language": "python",
   "name": "python3"
  },
  "language_info": {
   "codemirror_mode": {
    "name": "ipython",
    "version": 3
   },
   "file_extension": ".py",
   "mimetype": "text/x-python",
   "name": "python",
   "nbconvert_exporter": "python",
   "pygments_lexer": "ipython3",
   "version": "3.9.12"
  },
  "orig_nbformat": 4
 },
 "nbformat": 4,
 "nbformat_minor": 2
}
